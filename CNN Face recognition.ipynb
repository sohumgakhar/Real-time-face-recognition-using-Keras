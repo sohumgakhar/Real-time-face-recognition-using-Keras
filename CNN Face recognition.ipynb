{
 "cells": [
  {
   "cell_type": "markdown",
   "metadata": {},
   "source": [
    "Upcoming cell of code opens the camera and captures image and stores it in the directory"
   ]
  },
  {
   "cell_type": "code",
   "execution_count": 1,
   "metadata": {},
   "outputs": [
    {
     "name": "stdout",
     "output_type": "stream",
     "text": [
      "Enter the name of Person : Sohum\n",
      "1\n",
      "2\n",
      "3\n",
      "4\n",
      "5\n",
      "6\n",
      "7\n",
      "8\n",
      "9\n",
      "10\n",
      "11\n",
      "12\n",
      "13\n",
      "14\n",
      "(14, 30000)\n",
      "Data successfully save at :./CNN Face data/Sohum.npy\n"
     ]
    }
   ],
   "source": [
    "import cv2\n",
    "import numpy as np\n",
    "#Init camera\n",
    "cap = cv2.VideoCapture(0)\n",
    "#Face Detection using haarcascade File\n",
    "face_cascade = cv2.CascadeClassifier('Anaconda3\\Lib\\site-packages\\cv2\\data\\haarcascade_frontalface_alt.xml')\n",
    "skip = 0\n",
    "face_data = []\n",
    "dataset_path = ('./CNN Face data/')\n",
    "file_name = input(\"Enter the name of Person : \")\n",
    "while True:\n",
    "    ret,frame = cap.read()\n",
    "    if ret == False:\n",
    "        continue\n",
    "    faces = face_cascade.detectMultiScale(frame,1.3,5)\n",
    "    #The next line of code is written to only store the largest face in the window frame \n",
    "    faces = sorted(faces,key=lambda  f:f[2]*f[3])\n",
    "    #start sorting from the last face since the last face is the largest in terms of area(w*h)\n",
    "    for face in faces[-1:]:\n",
    "        x,y,w,h = face\n",
    "        cv2.rectangle(frame,(x,y),(x+w,y+h),(123,200,69),2)\n",
    "        #extract the required face or the region of the interest\n",
    "        offset = 10   #Refers to adding an extra 10 pixels on all the sides of the required extracted face\n",
    "        face_section = frame[y-offset:y+h+offset,x-offset:x+w+offset] #By default face slicing is done in (y,x) manner\n",
    "        face_section = cv2.resize(face_section,(100,100))\n",
    "        skip +=1\n",
    "        if skip%10==0 : #Store every 10th frame\n",
    "            face_data.append(face_section)\n",
    "            print(len(face_data)) #number of faces captured so far\n",
    "    cv2.imshow(\"Video Frame\",frame)\n",
    "    cv2.imshow(\"Face section frame\",face_section)\n",
    "    key_pressed = cv2.waitKey(1) & 0xFF\n",
    "    if key_pressed == ord('q'):\n",
    "        break\n",
    "#Convert Our face list array into a numpy array\n",
    "face_data = np.asarray(face_data)\n",
    "face_data = face_data.reshape((face_data.shape[0],-1))  #number of rows = number of faces\n",
    "print(face_data.shape)\n",
    "#Now we will save this data into file system\n",
    "np.save(dataset_path+file_name+'.npy',face_data)\n",
    "print(\"Data successfully save at :\"+dataset_path+file_name+'.npy')    \n",
    "cap.release()\n",
    "cv2.destroyAllWindows()"
   ]
  },
  {
   "cell_type": "code",
   "execution_count": 2,
   "metadata": {},
   "outputs": [],
   "source": [
    "import os"
   ]
  },
  {
   "cell_type": "markdown",
   "metadata": {},
   "source": [
    "Reshape all the data into a (30,30000) matrix"
   ]
  },
  {
   "cell_type": "code",
   "execution_count": 3,
   "metadata": {},
   "outputs": [],
   "source": [
    "from pathlib import Path\n",
    "p = Path('./CNN Face data/')\n",
    "dirs = p.glob(\"*\")\n",
    "labels = []\n",
    "for folder_dir in dirs:\n",
    "    label = str(folder_dir).split(\"\\\\\")[-1]\n",
    "    data = np.load('./CNN Face data/%s'%(label))\n",
    "    data = data[:30:]\n",
    "    lb = label[:-4]\n",
    "    labels.append(lb)\n",
    "    np.save('./CNN Face data/%s'%(label),data)"
   ]
  },
  {
   "cell_type": "code",
   "execution_count": 4,
   "metadata": {},
   "outputs": [
    {
     "name": "stderr",
     "output_type": "stream",
     "text": [
      "Using TensorFlow backend.\n"
     ]
    },
    {
     "ename": "SyntaxError",
     "evalue": "'return' outside function (<ipython-input-4-2e88e6d1289c>, line 26)",
     "output_type": "error",
     "traceback": [
      "\u001b[1;36m  File \u001b[1;32m\"<ipython-input-4-2e88e6d1289c>\"\u001b[1;36m, line \u001b[1;32m26\u001b[0m\n\u001b[1;33m    return pred\u001b[0m\n\u001b[1;37m               ^\u001b[0m\n\u001b[1;31mSyntaxError\u001b[0m\u001b[1;31m:\u001b[0m 'return' outside function\n"
     ]
    }
   ],
   "source": [
    "from keras.layers import *\n",
    "from keras.models import Sequential\n",
    "from keras.utils import np_utils\n",
    "import tensorflow as tf\n",
    "from tensorflow.python.client import device_lib\n",
    "def CNN(train,test):\n",
    "    \n",
    "    Y_train = train[:,-1]\n",
    "    X_train = train[:,:-1]\n",
    "    x_train = X_train.reshape((-1,200,150,1))\n",
    "    y_train = np_utils.to_categorical((Y_train))\n",
    "\n",
    "    model = Sequential()\n",
    "    model.add(Conv2D(128,(3,3),activation = 'relu',input_shape = (200,150,1)))\n",
    "    model.add(Conv2D(256,(3,3),activation = 'relu'))\n",
    "    model.add(Conv2D(512,(4,4),activation = 'relu'))\n",
    "    model.add(MaxPooling2D(2,2))\n",
    "    model.add(Conv2D(128,(5,5),activation = 'relu'))\n",
    "    model.add(Conv2D(64,(5,5),activation = 'relu'))\n",
    "    model.add(Flatten())\n",
    "    model.add(Dense(len(labels),activation = 'softmax'))\n",
    "\n",
    "    model.compile(optimizer = 'adadelta',loss = 'categorical_crossentropy',metrics = [\"accuracy\"])\n",
    "    hist = model.fit(x_train,y_train,epochs = 10,shuffle=True)\n",
    "    pred = model.predict_classes(x_test)\n",
    "return pred"
   ]
  },
  {
   "cell_type": "code",
   "execution_count": 5,
   "metadata": {},
   "outputs": [
    {
     "ename": "KeyboardInterrupt",
     "evalue": "",
     "output_type": "error",
     "traceback": [
      "\u001b[1;31m---------------------------------------------------------------------------\u001b[0m",
      "\u001b[1;31mKeyboardInterrupt\u001b[0m                         Traceback (most recent call last)",
      "\u001b[1;32m<ipython-input-5-cf7eb3663151>\u001b[0m in \u001b[0;36m<module>\u001b[1;34m\u001b[0m\n\u001b[1;32m----> 1\u001b[1;33m \u001b[0mcap\u001b[0m \u001b[1;33m=\u001b[0m \u001b[0mcv2\u001b[0m\u001b[1;33m.\u001b[0m\u001b[0mVideoCapture\u001b[0m\u001b[1;33m(\u001b[0m\u001b[1;36m0\u001b[0m\u001b[1;33m)\u001b[0m\u001b[1;33m\u001b[0m\u001b[1;33m\u001b[0m\u001b[0m\n\u001b[0m\u001b[0;32m      2\u001b[0m \u001b[1;31m#Face Detection using haarcascade File\u001b[0m\u001b[1;33m\u001b[0m\u001b[1;33m\u001b[0m\u001b[1;33m\u001b[0m\u001b[0m\n\u001b[0;32m      3\u001b[0m \u001b[0mface_cascade\u001b[0m \u001b[1;33m=\u001b[0m \u001b[0mcv2\u001b[0m\u001b[1;33m.\u001b[0m\u001b[0mCascadeClassifier\u001b[0m\u001b[1;33m(\u001b[0m\u001b[1;34m'Anaconda3\\Lib\\site-packages\\cv2\\data\\haarcascade_frontalface_alt.xml'\u001b[0m\u001b[1;33m)\u001b[0m\u001b[1;33m\u001b[0m\u001b[1;33m\u001b[0m\u001b[0m\n\u001b[0;32m      4\u001b[0m \u001b[0mskip\u001b[0m \u001b[1;33m=\u001b[0m \u001b[1;36m0\u001b[0m\u001b[1;33m\u001b[0m\u001b[1;33m\u001b[0m\u001b[0m\n\u001b[0;32m      5\u001b[0m \u001b[0mface_data\u001b[0m \u001b[1;33m=\u001b[0m \u001b[1;33m[\u001b[0m\u001b[1;33m]\u001b[0m     \u001b[1;31m#Constitutes the X file of the training data\u001b[0m\u001b[1;33m\u001b[0m\u001b[1;33m\u001b[0m\u001b[0m\n",
      "\u001b[1;31mKeyboardInterrupt\u001b[0m: "
     ]
    }
   ],
   "source": [
    "cap = cv2.VideoCapture(0)\n",
    "#Face Detection using haarcascade File\n",
    "face_cascade = cv2.CascadeClassifier('Anaconda3\\Lib\\site-packages\\cv2\\data\\haarcascade_frontalface_alt.xml')\n",
    "skip = 0\n",
    "face_data = []     #Constitutes the X file of the training data\n",
    "name_labels = []  #Constitutes the Y value of the training data\n",
    "dataset_path = ('./CNN Face data/')\n",
    "class_id = 0  #first file loaded in the video will have id zero\n",
    "names = {} #MApping between the id and the name\n",
    "### Data preperation\n",
    "for fx in os.listdir(dataset_path):\n",
    "    if fx.endswith('.npy'): #open only the file having file extension as .npy\n",
    "        #Maps the class id to the name of user\n",
    "        #-4 is written so that the extension .npy is not added to dictionary along with the name\n",
    "        names[class_id] = fx[:-4]\n",
    "        data_item = np.load(dataset_path+fx) #append the facial data from the path to face_data  \n",
    "        face_data.append(data_item)\n",
    "        #Creating labels for the class\n",
    "        target = class_id*np.ones((data_item.shape[0],))\n",
    "        class_id +=1\n",
    "        name_labels.append(target)\n",
    "#Join the training data into one matrix\n",
    "face_dataset = np.concatenate(face_data, axis = 0)\n",
    "face_labels = np.concatenate(name_labels, axis = 0).reshape((-1,1))  #reshaping it gives the shape as (15,1) \n",
    "#15 is the number of images taken by the webcam\n",
    "train_set = np.append(face_dataset,face_labels, axis = 1) #axis = 1 because we want to add another collumn to the dataset\n",
    "##### TESTING PART #######\n",
    "while True :\n",
    "    ret, frame = cap.read()\n",
    "    if ret == False:\n",
    "        continue\n",
    "    faces = face_cascade.detectMultiScale(frame,1.3,5)\n",
    "    for face in faces:\n",
    "        x,y,w,h = face\n",
    "        #Get the region of interest\n",
    "        offset = 10\n",
    "        face_section = frame[y-offset:y+h+offset,x-offset:x+w+offset]\n",
    "        face_section = cv2.resize(face_section,(100,100))\n",
    "        #predicted label and output\n",
    "        out = CNN(train_set,face_section.flatten())  #we give the linear part of the face section\n",
    "        #put name and rectangle around the name of user\n",
    "        pred_name = names[int(out)]\n",
    "        cv2.putText(frame,pred_name,(x,y-10),cv2.FONT_HERSHEY_SIMPLEX,1,(255,255,0),2,cv2.LINE_AA)\n",
    "        cv2.rectangle(frame,(x,y),(x+w,y+h),(0,255,255),2)\n",
    "    cv2.imshow(\"Faces\",frame)\n",
    "    key_pressed = cv2.waitKey(1) & 0xFF\n",
    "    if key_pressed == ord('q'):\n",
    "        break\n",
    "cap.release()\n",
    "cv2.destroyAllWindows()"
   ]
  },
  {
   "cell_type": "code",
   "execution_count": null,
   "metadata": {},
   "outputs": [],
   "source": []
  }
 ],
 "metadata": {
  "kernelspec": {
   "display_name": "Python 3",
   "language": "python",
   "name": "python3"
  },
  "language_info": {
   "codemirror_mode": {
    "name": "ipython",
    "version": 3
   },
   "file_extension": ".py",
   "mimetype": "text/x-python",
   "name": "python",
   "nbconvert_exporter": "python",
   "pygments_lexer": "ipython3",
   "version": "3.7.4"
  }
 },
 "nbformat": 4,
 "nbformat_minor": 2
}
